{
  "nbformat": 4,
  "nbformat_minor": 0,
  "metadata": {
    "colab": {
      "provenance": [],
      "include_colab_link": true
    },
    "kernelspec": {
      "name": "python3",
      "display_name": "Python 3"
    }
  },
  "cells": [
    {
      "cell_type": "markdown",
      "metadata": {
        "id": "view-in-github",
        "colab_type": "text"
      },
      "source": [
        "<a href=\"https://colab.research.google.com/github/Violeta759/Tarea-de-clase-sesiones-3-y-4/blob/main/Naive_Bayes_(Sesi%C3%B3n_4)_.ipynb\" target=\"_parent\"><img src=\"https://colab.research.google.com/assets/colab-badge.svg\" alt=\"Open In Colab\"/></a>"
      ]
    },
    {
      "cell_type": "markdown",
      "source": [
        "**Estudiante**: Violeta Del Burgo Sendarrubias."
      ],
      "metadata": {
        "id": "3LGB53sN46k6"
      }
    },
    {
      "cell_type": "markdown",
      "metadata": {
        "id": "t1s4a8JyqcyP"
      },
      "source": [
        "Vamos a operar de diferentes maneras con los préstamos de nuestro banco, en concreto vamos a intentar crear clasificadores para que dadas unas variables, nos den la probabilidad o el rating de darle un préstamo a un cliente."
      ]
    },
    {
      "cell_type": "markdown",
      "metadata": {
        "id": "vpDTzqbaiodK"
      },
      "source": [
        "## Carga de Datos:"
      ]
    },
    {
      "cell_type": "code",
      "metadata": {
        "colab": {
          "base_uri": "https://localhost:8080/"
        },
        "id": "lrljckjEtOOm",
        "outputId": "e5c391a0-212f-4d73-a6b2-40b271e1b2c3"
      },
      "source": [
        "!gdown --id 1Osmr7qVN0NMuqYxvLesNn7H4nqPCVbsU"
      ],
      "execution_count": 1,
      "outputs": [
        {
          "output_type": "stream",
          "name": "stdout",
          "text": [
            "/usr/local/lib/python3.7/dist-packages/gdown/cli.py:131: FutureWarning: Option `--id` was deprecated in version 4.3.1 and will be removed in 5.0. You don't need to pass it anymore to use a file ID.\n",
            "  category=FutureWarning,\n",
            "Downloading...\n",
            "From: https://drive.google.com/uc?id=1Osmr7qVN0NMuqYxvLesNn7H4nqPCVbsU\n",
            "To: /content/data_berka.db\n",
            "100% 70.2M/70.2M [00:00<00:00, 83.1MB/s]\n"
          ]
        }
      ]
    },
    {
      "cell_type": "markdown",
      "metadata": {
        "id": "UDaOStdPirkZ"
      },
      "source": [
        "##1º. Cargamos la extensión sql."
      ]
    },
    {
      "cell_type": "code",
      "metadata": {
        "id": "3Zpf7lz5h7wp"
      },
      "source": [
        "%load_ext sql"
      ],
      "execution_count": 2,
      "outputs": []
    },
    {
      "cell_type": "markdown",
      "metadata": {
        "id": "zPGw5HdqiuHI"
      },
      "source": [
        "## 2º. Nos conectamos con la base de datos."
      ]
    },
    {
      "cell_type": "code",
      "metadata": {
        "id": "ADklBjhhiPLE",
        "colab": {
          "base_uri": "https://localhost:8080/",
          "height": 35
        },
        "outputId": "d7591196-d1e8-498f-a44d-d9c7e4bff958"
      },
      "source": [
        "%sql sqlite:///data_berka.db"
      ],
      "execution_count": 3,
      "outputs": [
        {
          "output_type": "execute_result",
          "data": {
            "text/plain": [
              "'Connected: @data_berka.db'"
            ],
            "application/vnd.google.colaboratory.intrinsic+json": {
              "type": "string"
            }
          },
          "metadata": {},
          "execution_count": 3
        }
      ]
    },
    {
      "cell_type": "markdown",
      "metadata": {
        "id": "oQlROt7Uidms"
      },
      "source": [
        "> Datos de préstamos ya finalizados con su estado final, incluyendo datos del distrito, etc."
      ]
    },
    {
      "cell_type": "markdown",
      "source": [
        "- ¿Cuántos préstamos hay por cada estado (status)?\n"
      ],
      "metadata": {
        "id": "iq0ZnTlWlN1s"
      }
    },
    {
      "cell_type": "code",
      "source": [
        "%%sql\n",
        "SELECT status, count(*) as total\n",
        "FROM loan\n",
        "GROUP BY status\n",
        "ORDER BY total DESC "
      ],
      "metadata": {
        "id": "75QG92jrlNcH",
        "colab": {
          "base_uri": "https://localhost:8080/",
          "height": 158
        },
        "outputId": "a23f10ea-7ad3-4e20-f73e-4161e050cb25"
      },
      "execution_count": 4,
      "outputs": [
        {
          "output_type": "stream",
          "name": "stdout",
          "text": [
            " * sqlite:///data_berka.db\n",
            "Done.\n"
          ]
        },
        {
          "output_type": "execute_result",
          "data": {
            "text/plain": [
              "[('C', 403), ('A', 203), ('D', 45), ('B', 31)]"
            ],
            "text/html": [
              "<table>\n",
              "    <thead>\n",
              "        <tr>\n",
              "            <th>status</th>\n",
              "            <th>total</th>\n",
              "        </tr>\n",
              "    </thead>\n",
              "    <tbody>\n",
              "        <tr>\n",
              "            <td>C</td>\n",
              "            <td>403</td>\n",
              "        </tr>\n",
              "        <tr>\n",
              "            <td>A</td>\n",
              "            <td>203</td>\n",
              "        </tr>\n",
              "        <tr>\n",
              "            <td>D</td>\n",
              "            <td>45</td>\n",
              "        </tr>\n",
              "        <tr>\n",
              "            <td>B</td>\n",
              "            <td>31</td>\n",
              "        </tr>\n",
              "    </tbody>\n",
              "</table>"
            ]
          },
          "metadata": {},
          "execution_count": 4
        }
      ]
    },
    {
      "cell_type": "markdown",
      "source": [
        "- Vamos a empezar obteniendo los datos de los préstamos ya finalizados. Van a ser nuestros datos de entrenamiento. Por lo que seleccionaremos únicamente aquellos préstamos en status 'A' o 'B'. \n",
        "\n",
        "> Con una sentencia *CASE* vamos a poner los préstamos finalizados bien a 1 y los que no finalizaron bien a 0. \n",
        "\n",
        ">(Sintaxis de uso de [INNER JOIN](https://www.sqlitetutorial.net/sqlite-inner-join/) para establecer joins entre tablas)."
      ],
      "metadata": {
        "id": "roYYO_h9kH0d"
      }
    },
    {
      "cell_type": "code",
      "metadata": {
        "id": "dbTj5fJxiasa",
        "colab": {
          "base_uri": "https://localhost:8080/"
        },
        "outputId": "5bdcb6c0-6f54-4686-bc91-93e7f863c7ef"
      },
      "source": [
        "%%sql loans_train << SELECT substr(l.date,0,3) year, amount, duration, payments, A11, A13,\n",
        "  CASE status WHEN 'A' THEN 1\n",
        "              WHEN 'B' THEN 0\n",
        "  END label\n",
        "  FROM LOAN l, ACCOUNT a INNER JOIN DISTRICT d on a.district_id = d.A1 \n",
        "  WHERE l.account_id = a.account_id and l.status in (\"A\", \"B\")"
      ],
      "execution_count": 57,
      "outputs": [
        {
          "output_type": "stream",
          "name": "stdout",
          "text": [
            " * sqlite:///data_berka.db\n",
            "Done.\n",
            "Returning data to local variable loans_train\n"
          ]
        }
      ]
    },
    {
      "cell_type": "markdown",
      "source": [
        " > **substr(l.date,0,3)** -> coger los 3 primeros dígitos de las fechas. "
      ],
      "metadata": {
        "id": "dw_i-yCTPjN8"
      }
    },
    {
      "cell_type": "markdown",
      "metadata": {
        "id": "Jj_-Qp_yiyeB"
      },
      "source": [
        "## 3. Obtenemos el DataFrame."
      ]
    },
    {
      "cell_type": "code",
      "metadata": {
        "id": "EgN-fsjUimKL",
        "colab": {
          "base_uri": "https://localhost:8080/",
          "height": 206
        },
        "outputId": "aa0b6e45-0c5e-48e2-85b4-d97be2f453a3"
      },
      "source": [
        "df_train = loans_train.DataFrame()\n",
        "df_train.head()"
      ],
      "execution_count": 58,
      "outputs": [
        {
          "output_type": "execute_result",
          "data": {
            "text/plain": [
              "  year  amount  duration  payments    A11   A13  label\n",
              "0   93   96396        12      8033   9650  3.67      0\n",
              "1   93  165960        36      4610   8369  2.31      1\n",
              "2   93  127080        60      2118   8390  2.89      1\n",
              "3   93  105804        36      2939   8754  4.31      1\n",
              "4   93  274740        60      4579  12541  0.43      1"
            ],
            "text/html": [
              "\n",
              "  <div id=\"df-c967609f-3430-4cac-874c-54586df7ddd1\">\n",
              "    <div class=\"colab-df-container\">\n",
              "      <div>\n",
              "<style scoped>\n",
              "    .dataframe tbody tr th:only-of-type {\n",
              "        vertical-align: middle;\n",
              "    }\n",
              "\n",
              "    .dataframe tbody tr th {\n",
              "        vertical-align: top;\n",
              "    }\n",
              "\n",
              "    .dataframe thead th {\n",
              "        text-align: right;\n",
              "    }\n",
              "</style>\n",
              "<table border=\"1\" class=\"dataframe\">\n",
              "  <thead>\n",
              "    <tr style=\"text-align: right;\">\n",
              "      <th></th>\n",
              "      <th>year</th>\n",
              "      <th>amount</th>\n",
              "      <th>duration</th>\n",
              "      <th>payments</th>\n",
              "      <th>A11</th>\n",
              "      <th>A13</th>\n",
              "      <th>label</th>\n",
              "    </tr>\n",
              "  </thead>\n",
              "  <tbody>\n",
              "    <tr>\n",
              "      <th>0</th>\n",
              "      <td>93</td>\n",
              "      <td>96396</td>\n",
              "      <td>12</td>\n",
              "      <td>8033</td>\n",
              "      <td>9650</td>\n",
              "      <td>3.67</td>\n",
              "      <td>0</td>\n",
              "    </tr>\n",
              "    <tr>\n",
              "      <th>1</th>\n",
              "      <td>93</td>\n",
              "      <td>165960</td>\n",
              "      <td>36</td>\n",
              "      <td>4610</td>\n",
              "      <td>8369</td>\n",
              "      <td>2.31</td>\n",
              "      <td>1</td>\n",
              "    </tr>\n",
              "    <tr>\n",
              "      <th>2</th>\n",
              "      <td>93</td>\n",
              "      <td>127080</td>\n",
              "      <td>60</td>\n",
              "      <td>2118</td>\n",
              "      <td>8390</td>\n",
              "      <td>2.89</td>\n",
              "      <td>1</td>\n",
              "    </tr>\n",
              "    <tr>\n",
              "      <th>3</th>\n",
              "      <td>93</td>\n",
              "      <td>105804</td>\n",
              "      <td>36</td>\n",
              "      <td>2939</td>\n",
              "      <td>8754</td>\n",
              "      <td>4.31</td>\n",
              "      <td>1</td>\n",
              "    </tr>\n",
              "    <tr>\n",
              "      <th>4</th>\n",
              "      <td>93</td>\n",
              "      <td>274740</td>\n",
              "      <td>60</td>\n",
              "      <td>4579</td>\n",
              "      <td>12541</td>\n",
              "      <td>0.43</td>\n",
              "      <td>1</td>\n",
              "    </tr>\n",
              "  </tbody>\n",
              "</table>\n",
              "</div>\n",
              "      <button class=\"colab-df-convert\" onclick=\"convertToInteractive('df-c967609f-3430-4cac-874c-54586df7ddd1')\"\n",
              "              title=\"Convert this dataframe to an interactive table.\"\n",
              "              style=\"display:none;\">\n",
              "        \n",
              "  <svg xmlns=\"http://www.w3.org/2000/svg\" height=\"24px\"viewBox=\"0 0 24 24\"\n",
              "       width=\"24px\">\n",
              "    <path d=\"M0 0h24v24H0V0z\" fill=\"none\"/>\n",
              "    <path d=\"M18.56 5.44l.94 2.06.94-2.06 2.06-.94-2.06-.94-.94-2.06-.94 2.06-2.06.94zm-11 1L8.5 8.5l.94-2.06 2.06-.94-2.06-.94L8.5 2.5l-.94 2.06-2.06.94zm10 10l.94 2.06.94-2.06 2.06-.94-2.06-.94-.94-2.06-.94 2.06-2.06.94z\"/><path d=\"M17.41 7.96l-1.37-1.37c-.4-.4-.92-.59-1.43-.59-.52 0-1.04.2-1.43.59L10.3 9.45l-7.72 7.72c-.78.78-.78 2.05 0 2.83L4 21.41c.39.39.9.59 1.41.59.51 0 1.02-.2 1.41-.59l7.78-7.78 2.81-2.81c.8-.78.8-2.07 0-2.86zM5.41 20L4 18.59l7.72-7.72 1.47 1.35L5.41 20z\"/>\n",
              "  </svg>\n",
              "      </button>\n",
              "      \n",
              "  <style>\n",
              "    .colab-df-container {\n",
              "      display:flex;\n",
              "      flex-wrap:wrap;\n",
              "      gap: 12px;\n",
              "    }\n",
              "\n",
              "    .colab-df-convert {\n",
              "      background-color: #E8F0FE;\n",
              "      border: none;\n",
              "      border-radius: 50%;\n",
              "      cursor: pointer;\n",
              "      display: none;\n",
              "      fill: #1967D2;\n",
              "      height: 32px;\n",
              "      padding: 0 0 0 0;\n",
              "      width: 32px;\n",
              "    }\n",
              "\n",
              "    .colab-df-convert:hover {\n",
              "      background-color: #E2EBFA;\n",
              "      box-shadow: 0px 1px 2px rgba(60, 64, 67, 0.3), 0px 1px 3px 1px rgba(60, 64, 67, 0.15);\n",
              "      fill: #174EA6;\n",
              "    }\n",
              "\n",
              "    [theme=dark] .colab-df-convert {\n",
              "      background-color: #3B4455;\n",
              "      fill: #D2E3FC;\n",
              "    }\n",
              "\n",
              "    [theme=dark] .colab-df-convert:hover {\n",
              "      background-color: #434B5C;\n",
              "      box-shadow: 0px 1px 3px 1px rgba(0, 0, 0, 0.15);\n",
              "      filter: drop-shadow(0px 1px 2px rgba(0, 0, 0, 0.3));\n",
              "      fill: #FFFFFF;\n",
              "    }\n",
              "  </style>\n",
              "\n",
              "      <script>\n",
              "        const buttonEl =\n",
              "          document.querySelector('#df-c967609f-3430-4cac-874c-54586df7ddd1 button.colab-df-convert');\n",
              "        buttonEl.style.display =\n",
              "          google.colab.kernel.accessAllowed ? 'block' : 'none';\n",
              "\n",
              "        async function convertToInteractive(key) {\n",
              "          const element = document.querySelector('#df-c967609f-3430-4cac-874c-54586df7ddd1');\n",
              "          const dataTable =\n",
              "            await google.colab.kernel.invokeFunction('convertToInteractive',\n",
              "                                                     [key], {});\n",
              "          if (!dataTable) return;\n",
              "\n",
              "          const docLinkHtml = 'Like what you see? Visit the ' +\n",
              "            '<a target=\"_blank\" href=https://colab.research.google.com/notebooks/data_table.ipynb>data table notebook</a>'\n",
              "            + ' to learn more about interactive tables.';\n",
              "          element.innerHTML = '';\n",
              "          dataTable['output_type'] = 'display_data';\n",
              "          await google.colab.output.renderOutput(dataTable, element);\n",
              "          const docLink = document.createElement('div');\n",
              "          docLink.innerHTML = docLinkHtml;\n",
              "          element.appendChild(docLink);\n",
              "        }\n",
              "      </script>\n",
              "    </div>\n",
              "  </div>\n",
              "  "
            ]
          },
          "metadata": {},
          "execution_count": 58
        }
      ]
    },
    {
      "cell_type": "code",
      "source": [
        "df_train.shape\n",
        "#Dimensiones de train."
      ],
      "metadata": {
        "colab": {
          "base_uri": "https://localhost:8080/"
        },
        "id": "75rgtscNqQ3T",
        "outputId": "1b688527-850f-444a-bfd0-be21b6c07e3a"
      },
      "execution_count": 59,
      "outputs": [
        {
          "output_type": "execute_result",
          "data": {
            "text/plain": [
              "(234, 7)"
            ]
          },
          "metadata": {},
          "execution_count": 59
        }
      ]
    },
    {
      "cell_type": "markdown",
      "source": [
        "- Para la parte de *test* lo que vamos a extraer de la Base de Datos son los préstamos que están en ejecución (`status in (\"C\", \"D\")`) con los mismos campos que en la consulta anterior."
      ],
      "metadata": {
        "id": "jhv5wpixG5bL"
      }
    },
    {
      "cell_type": "code",
      "source": [
        "%%sql loans_test << SELECT substr(l.date,0,3) year, amount, duration, payments, A11, A13,\n",
        "  CASE status WHEN 'C' THEN 1\n",
        "              WHEN 'D' THEN 0\n",
        "  END label\n",
        "  FROM LOAN l, ACCOUNT a INNER JOIN DISTRICT d on a.district_id = d.A1 \n",
        "  WHERE l.account_id = a.account_id and l.status in (\"C\", \"D\")"
      ],
      "metadata": {
        "colab": {
          "base_uri": "https://localhost:8080/"
        },
        "id": "i65WhpR4k9fk",
        "outputId": "16b6f381-4061-4d74-bb96-5b371a252ebc"
      },
      "execution_count": 60,
      "outputs": [
        {
          "output_type": "stream",
          "name": "stdout",
          "text": [
            " * sqlite:///data_berka.db\n",
            "Done.\n",
            "Returning data to local variable loans_test\n"
          ]
        }
      ]
    },
    {
      "cell_type": "code",
      "source": [
        "df_test = loans_test.DataFrame()\n",
        "df_test.head()"
      ],
      "metadata": {
        "colab": {
          "base_uri": "https://localhost:8080/",
          "height": 206
        },
        "id": "dpwgRcLZlJvp",
        "outputId": "5a6ae3f9-0a9c-4de4-af7a-d1d46f4b3d9c"
      },
      "execution_count": 61,
      "outputs": [
        {
          "output_type": "execute_result",
          "data": {
            "text/plain": [
              "  year  amount  duration  payments   A11   A13  label\n",
              "0   94  253200        60      4220  9893  4.72      1\n",
              "1   94  300660        60      5011  9317  7.07      1\n",
              "2   94  167100        60      2785  8544  1.86      1\n",
              "3   94  149340        60      2489  8254  3.76      1\n",
              "4   94   89040        60      1484  8909  5.56      1"
            ],
            "text/html": [
              "\n",
              "  <div id=\"df-bac5c784-8637-44a0-8082-e04b068a01ab\">\n",
              "    <div class=\"colab-df-container\">\n",
              "      <div>\n",
              "<style scoped>\n",
              "    .dataframe tbody tr th:only-of-type {\n",
              "        vertical-align: middle;\n",
              "    }\n",
              "\n",
              "    .dataframe tbody tr th {\n",
              "        vertical-align: top;\n",
              "    }\n",
              "\n",
              "    .dataframe thead th {\n",
              "        text-align: right;\n",
              "    }\n",
              "</style>\n",
              "<table border=\"1\" class=\"dataframe\">\n",
              "  <thead>\n",
              "    <tr style=\"text-align: right;\">\n",
              "      <th></th>\n",
              "      <th>year</th>\n",
              "      <th>amount</th>\n",
              "      <th>duration</th>\n",
              "      <th>payments</th>\n",
              "      <th>A11</th>\n",
              "      <th>A13</th>\n",
              "      <th>label</th>\n",
              "    </tr>\n",
              "  </thead>\n",
              "  <tbody>\n",
              "    <tr>\n",
              "      <th>0</th>\n",
              "      <td>94</td>\n",
              "      <td>253200</td>\n",
              "      <td>60</td>\n",
              "      <td>4220</td>\n",
              "      <td>9893</td>\n",
              "      <td>4.72</td>\n",
              "      <td>1</td>\n",
              "    </tr>\n",
              "    <tr>\n",
              "      <th>1</th>\n",
              "      <td>94</td>\n",
              "      <td>300660</td>\n",
              "      <td>60</td>\n",
              "      <td>5011</td>\n",
              "      <td>9317</td>\n",
              "      <td>7.07</td>\n",
              "      <td>1</td>\n",
              "    </tr>\n",
              "    <tr>\n",
              "      <th>2</th>\n",
              "      <td>94</td>\n",
              "      <td>167100</td>\n",
              "      <td>60</td>\n",
              "      <td>2785</td>\n",
              "      <td>8544</td>\n",
              "      <td>1.86</td>\n",
              "      <td>1</td>\n",
              "    </tr>\n",
              "    <tr>\n",
              "      <th>3</th>\n",
              "      <td>94</td>\n",
              "      <td>149340</td>\n",
              "      <td>60</td>\n",
              "      <td>2489</td>\n",
              "      <td>8254</td>\n",
              "      <td>3.76</td>\n",
              "      <td>1</td>\n",
              "    </tr>\n",
              "    <tr>\n",
              "      <th>4</th>\n",
              "      <td>94</td>\n",
              "      <td>89040</td>\n",
              "      <td>60</td>\n",
              "      <td>1484</td>\n",
              "      <td>8909</td>\n",
              "      <td>5.56</td>\n",
              "      <td>1</td>\n",
              "    </tr>\n",
              "  </tbody>\n",
              "</table>\n",
              "</div>\n",
              "      <button class=\"colab-df-convert\" onclick=\"convertToInteractive('df-bac5c784-8637-44a0-8082-e04b068a01ab')\"\n",
              "              title=\"Convert this dataframe to an interactive table.\"\n",
              "              style=\"display:none;\">\n",
              "        \n",
              "  <svg xmlns=\"http://www.w3.org/2000/svg\" height=\"24px\"viewBox=\"0 0 24 24\"\n",
              "       width=\"24px\">\n",
              "    <path d=\"M0 0h24v24H0V0z\" fill=\"none\"/>\n",
              "    <path d=\"M18.56 5.44l.94 2.06.94-2.06 2.06-.94-2.06-.94-.94-2.06-.94 2.06-2.06.94zm-11 1L8.5 8.5l.94-2.06 2.06-.94-2.06-.94L8.5 2.5l-.94 2.06-2.06.94zm10 10l.94 2.06.94-2.06 2.06-.94-2.06-.94-.94-2.06-.94 2.06-2.06.94z\"/><path d=\"M17.41 7.96l-1.37-1.37c-.4-.4-.92-.59-1.43-.59-.52 0-1.04.2-1.43.59L10.3 9.45l-7.72 7.72c-.78.78-.78 2.05 0 2.83L4 21.41c.39.39.9.59 1.41.59.51 0 1.02-.2 1.41-.59l7.78-7.78 2.81-2.81c.8-.78.8-2.07 0-2.86zM5.41 20L4 18.59l7.72-7.72 1.47 1.35L5.41 20z\"/>\n",
              "  </svg>\n",
              "      </button>\n",
              "      \n",
              "  <style>\n",
              "    .colab-df-container {\n",
              "      display:flex;\n",
              "      flex-wrap:wrap;\n",
              "      gap: 12px;\n",
              "    }\n",
              "\n",
              "    .colab-df-convert {\n",
              "      background-color: #E8F0FE;\n",
              "      border: none;\n",
              "      border-radius: 50%;\n",
              "      cursor: pointer;\n",
              "      display: none;\n",
              "      fill: #1967D2;\n",
              "      height: 32px;\n",
              "      padding: 0 0 0 0;\n",
              "      width: 32px;\n",
              "    }\n",
              "\n",
              "    .colab-df-convert:hover {\n",
              "      background-color: #E2EBFA;\n",
              "      box-shadow: 0px 1px 2px rgba(60, 64, 67, 0.3), 0px 1px 3px 1px rgba(60, 64, 67, 0.15);\n",
              "      fill: #174EA6;\n",
              "    }\n",
              "\n",
              "    [theme=dark] .colab-df-convert {\n",
              "      background-color: #3B4455;\n",
              "      fill: #D2E3FC;\n",
              "    }\n",
              "\n",
              "    [theme=dark] .colab-df-convert:hover {\n",
              "      background-color: #434B5C;\n",
              "      box-shadow: 0px 1px 3px 1px rgba(0, 0, 0, 0.15);\n",
              "      filter: drop-shadow(0px 1px 2px rgba(0, 0, 0, 0.3));\n",
              "      fill: #FFFFFF;\n",
              "    }\n",
              "  </style>\n",
              "\n",
              "      <script>\n",
              "        const buttonEl =\n",
              "          document.querySelector('#df-bac5c784-8637-44a0-8082-e04b068a01ab button.colab-df-convert');\n",
              "        buttonEl.style.display =\n",
              "          google.colab.kernel.accessAllowed ? 'block' : 'none';\n",
              "\n",
              "        async function convertToInteractive(key) {\n",
              "          const element = document.querySelector('#df-bac5c784-8637-44a0-8082-e04b068a01ab');\n",
              "          const dataTable =\n",
              "            await google.colab.kernel.invokeFunction('convertToInteractive',\n",
              "                                                     [key], {});\n",
              "          if (!dataTable) return;\n",
              "\n",
              "          const docLinkHtml = 'Like what you see? Visit the ' +\n",
              "            '<a target=\"_blank\" href=https://colab.research.google.com/notebooks/data_table.ipynb>data table notebook</a>'\n",
              "            + ' to learn more about interactive tables.';\n",
              "          element.innerHTML = '';\n",
              "          dataTable['output_type'] = 'display_data';\n",
              "          await google.colab.output.renderOutput(dataTable, element);\n",
              "          const docLink = document.createElement('div');\n",
              "          docLink.innerHTML = docLinkHtml;\n",
              "          element.appendChild(docLink);\n",
              "        }\n",
              "      </script>\n",
              "    </div>\n",
              "  </div>\n",
              "  "
            ]
          },
          "metadata": {},
          "execution_count": 61
        }
      ]
    },
    {
      "cell_type": "code",
      "source": [
        "df_test.shape"
      ],
      "metadata": {
        "colab": {
          "base_uri": "https://localhost:8080/"
        },
        "id": "A5AzQD4NrboF",
        "outputId": "d5105ea8-11b4-4f5b-9213-f8a6d058729a"
      },
      "execution_count": 62,
      "outputs": [
        {
          "output_type": "execute_result",
          "data": {
            "text/plain": [
              "(448, 7)"
            ]
          },
          "metadata": {},
          "execution_count": 62
        }
      ]
    },
    {
      "cell_type": "markdown",
      "source": [
        "### Ejercicio 1: Añadir la edad del cliente propietario de la cuenta del préstamo y algún campo de datos demográficos adicionales.\n"
      ],
      "metadata": {
        "id": "6qRaWxnkcLC3"
      }
    },
    {
      "cell_type": "code",
      "source": [
        "  %%sql loans_train3 << SELECT substr(l.date,0,3) year, amount, duration, payments, A11, A13, A2, A3,  99 - substr(birth_number,0,3) edad, \n",
        "  CASE status WHEN 'A' THEN 1\n",
        "              WHEN 'B' THEN 0\n",
        "  END label\n",
        "  FROM LOAN l, ACCOUNT a, CLIENT c, DISTRICT d, DISPOSITION p\n",
        "  WHERE a.district_id = d.A1 \n",
        "  AND l.account_id = a.account_id \n",
        "  AND c.client_id = p.client_id\n",
        "  AND p.account_id = a.account_id \n",
        "  AND l.status in (\"A\", \"B\")"
      ],
      "metadata": {
        "colab": {
          "base_uri": "https://localhost:8080/"
        },
        "id": "NePQi-t1wJSM",
        "outputId": "d8fa41bf-87aa-448c-f0d0-30109a477afe"
      },
      "execution_count": 63,
      "outputs": [
        {
          "output_type": "stream",
          "name": "stdout",
          "text": [
            " * sqlite:///data_berka.db\n",
            "Done.\n",
            "Returning data to local variable loans_train3\n"
          ]
        }
      ]
    },
    {
      "cell_type": "code",
      "source": [
        "df_train5 = loans_train3.DataFrame()\n",
        "df_train5.shape"
      ],
      "metadata": {
        "colab": {
          "base_uri": "https://localhost:8080/"
        },
        "id": "5l8KaepsZvVn",
        "outputId": "6d57f86a-e9f0-4120-909b-f98ba65142ec"
      },
      "execution_count": 64,
      "outputs": [
        {
          "output_type": "execute_result",
          "data": {
            "text/plain": [
              "(289, 10)"
            ]
          },
          "metadata": {},
          "execution_count": 64
        }
      ]
    },
    {
      "cell_type": "code",
      "source": [
        "df_train5 = loans_train3.DataFrame()\n",
        "df_train5.head()"
      ],
      "metadata": {
        "colab": {
          "base_uri": "https://localhost:8080/",
          "height": 206
        },
        "id": "DkWh01vgxxHN",
        "outputId": "90a13f65-99be-4615-d976-9303167ea3f9"
      },
      "execution_count": 65,
      "outputs": [
        {
          "output_type": "execute_result",
          "data": {
            "text/plain": [
              "  year  amount  duration  payments    A11   A13                 A2  \\\n",
              "0   94   80952        24      3373  12541  0.43        Hl.m. Praha   \n",
              "1   94   80952        24      3373  12541  0.43        Hl.m. Praha   \n",
              "2   96   30276        12      2523   9104  2.07              Tabor   \n",
              "3   97   30276        12      2523   9893  4.72    Frydek - Mistek   \n",
              "4   96  165960        24      6915   8427  1.54  Jindrichuv Hradec   \n",
              "\n",
              "              A3  edad  label  \n",
              "0         Prague    54      1  \n",
              "1         Prague    59      1  \n",
              "2  south Bohemia    60      0  \n",
              "3  north Moravia    37      1  \n",
              "4  south Bohemia    55      1  "
            ],
            "text/html": [
              "\n",
              "  <div id=\"df-e66c6dcb-779c-4374-b318-47da15e1b12a\">\n",
              "    <div class=\"colab-df-container\">\n",
              "      <div>\n",
              "<style scoped>\n",
              "    .dataframe tbody tr th:only-of-type {\n",
              "        vertical-align: middle;\n",
              "    }\n",
              "\n",
              "    .dataframe tbody tr th {\n",
              "        vertical-align: top;\n",
              "    }\n",
              "\n",
              "    .dataframe thead th {\n",
              "        text-align: right;\n",
              "    }\n",
              "</style>\n",
              "<table border=\"1\" class=\"dataframe\">\n",
              "  <thead>\n",
              "    <tr style=\"text-align: right;\">\n",
              "      <th></th>\n",
              "      <th>year</th>\n",
              "      <th>amount</th>\n",
              "      <th>duration</th>\n",
              "      <th>payments</th>\n",
              "      <th>A11</th>\n",
              "      <th>A13</th>\n",
              "      <th>A2</th>\n",
              "      <th>A3</th>\n",
              "      <th>edad</th>\n",
              "      <th>label</th>\n",
              "    </tr>\n",
              "  </thead>\n",
              "  <tbody>\n",
              "    <tr>\n",
              "      <th>0</th>\n",
              "      <td>94</td>\n",
              "      <td>80952</td>\n",
              "      <td>24</td>\n",
              "      <td>3373</td>\n",
              "      <td>12541</td>\n",
              "      <td>0.43</td>\n",
              "      <td>Hl.m. Praha</td>\n",
              "      <td>Prague</td>\n",
              "      <td>54</td>\n",
              "      <td>1</td>\n",
              "    </tr>\n",
              "    <tr>\n",
              "      <th>1</th>\n",
              "      <td>94</td>\n",
              "      <td>80952</td>\n",
              "      <td>24</td>\n",
              "      <td>3373</td>\n",
              "      <td>12541</td>\n",
              "      <td>0.43</td>\n",
              "      <td>Hl.m. Praha</td>\n",
              "      <td>Prague</td>\n",
              "      <td>59</td>\n",
              "      <td>1</td>\n",
              "    </tr>\n",
              "    <tr>\n",
              "      <th>2</th>\n",
              "      <td>96</td>\n",
              "      <td>30276</td>\n",
              "      <td>12</td>\n",
              "      <td>2523</td>\n",
              "      <td>9104</td>\n",
              "      <td>2.07</td>\n",
              "      <td>Tabor</td>\n",
              "      <td>south Bohemia</td>\n",
              "      <td>60</td>\n",
              "      <td>0</td>\n",
              "    </tr>\n",
              "    <tr>\n",
              "      <th>3</th>\n",
              "      <td>97</td>\n",
              "      <td>30276</td>\n",
              "      <td>12</td>\n",
              "      <td>2523</td>\n",
              "      <td>9893</td>\n",
              "      <td>4.72</td>\n",
              "      <td>Frydek - Mistek</td>\n",
              "      <td>north Moravia</td>\n",
              "      <td>37</td>\n",
              "      <td>1</td>\n",
              "    </tr>\n",
              "    <tr>\n",
              "      <th>4</th>\n",
              "      <td>96</td>\n",
              "      <td>165960</td>\n",
              "      <td>24</td>\n",
              "      <td>6915</td>\n",
              "      <td>8427</td>\n",
              "      <td>1.54</td>\n",
              "      <td>Jindrichuv Hradec</td>\n",
              "      <td>south Bohemia</td>\n",
              "      <td>55</td>\n",
              "      <td>1</td>\n",
              "    </tr>\n",
              "  </tbody>\n",
              "</table>\n",
              "</div>\n",
              "      <button class=\"colab-df-convert\" onclick=\"convertToInteractive('df-e66c6dcb-779c-4374-b318-47da15e1b12a')\"\n",
              "              title=\"Convert this dataframe to an interactive table.\"\n",
              "              style=\"display:none;\">\n",
              "        \n",
              "  <svg xmlns=\"http://www.w3.org/2000/svg\" height=\"24px\"viewBox=\"0 0 24 24\"\n",
              "       width=\"24px\">\n",
              "    <path d=\"M0 0h24v24H0V0z\" fill=\"none\"/>\n",
              "    <path d=\"M18.56 5.44l.94 2.06.94-2.06 2.06-.94-2.06-.94-.94-2.06-.94 2.06-2.06.94zm-11 1L8.5 8.5l.94-2.06 2.06-.94-2.06-.94L8.5 2.5l-.94 2.06-2.06.94zm10 10l.94 2.06.94-2.06 2.06-.94-2.06-.94-.94-2.06-.94 2.06-2.06.94z\"/><path d=\"M17.41 7.96l-1.37-1.37c-.4-.4-.92-.59-1.43-.59-.52 0-1.04.2-1.43.59L10.3 9.45l-7.72 7.72c-.78.78-.78 2.05 0 2.83L4 21.41c.39.39.9.59 1.41.59.51 0 1.02-.2 1.41-.59l7.78-7.78 2.81-2.81c.8-.78.8-2.07 0-2.86zM5.41 20L4 18.59l7.72-7.72 1.47 1.35L5.41 20z\"/>\n",
              "  </svg>\n",
              "      </button>\n",
              "      \n",
              "  <style>\n",
              "    .colab-df-container {\n",
              "      display:flex;\n",
              "      flex-wrap:wrap;\n",
              "      gap: 12px;\n",
              "    }\n",
              "\n",
              "    .colab-df-convert {\n",
              "      background-color: #E8F0FE;\n",
              "      border: none;\n",
              "      border-radius: 50%;\n",
              "      cursor: pointer;\n",
              "      display: none;\n",
              "      fill: #1967D2;\n",
              "      height: 32px;\n",
              "      padding: 0 0 0 0;\n",
              "      width: 32px;\n",
              "    }\n",
              "\n",
              "    .colab-df-convert:hover {\n",
              "      background-color: #E2EBFA;\n",
              "      box-shadow: 0px 1px 2px rgba(60, 64, 67, 0.3), 0px 1px 3px 1px rgba(60, 64, 67, 0.15);\n",
              "      fill: #174EA6;\n",
              "    }\n",
              "\n",
              "    [theme=dark] .colab-df-convert {\n",
              "      background-color: #3B4455;\n",
              "      fill: #D2E3FC;\n",
              "    }\n",
              "\n",
              "    [theme=dark] .colab-df-convert:hover {\n",
              "      background-color: #434B5C;\n",
              "      box-shadow: 0px 1px 3px 1px rgba(0, 0, 0, 0.15);\n",
              "      filter: drop-shadow(0px 1px 2px rgba(0, 0, 0, 0.3));\n",
              "      fill: #FFFFFF;\n",
              "    }\n",
              "  </style>\n",
              "\n",
              "      <script>\n",
              "        const buttonEl =\n",
              "          document.querySelector('#df-e66c6dcb-779c-4374-b318-47da15e1b12a button.colab-df-convert');\n",
              "        buttonEl.style.display =\n",
              "          google.colab.kernel.accessAllowed ? 'block' : 'none';\n",
              "\n",
              "        async function convertToInteractive(key) {\n",
              "          const element = document.querySelector('#df-e66c6dcb-779c-4374-b318-47da15e1b12a');\n",
              "          const dataTable =\n",
              "            await google.colab.kernel.invokeFunction('convertToInteractive',\n",
              "                                                     [key], {});\n",
              "          if (!dataTable) return;\n",
              "\n",
              "          const docLinkHtml = 'Like what you see? Visit the ' +\n",
              "            '<a target=\"_blank\" href=https://colab.research.google.com/notebooks/data_table.ipynb>data table notebook</a>'\n",
              "            + ' to learn more about interactive tables.';\n",
              "          element.innerHTML = '';\n",
              "          dataTable['output_type'] = 'display_data';\n",
              "          await google.colab.output.renderOutput(dataTable, element);\n",
              "          const docLink = document.createElement('div');\n",
              "          docLink.innerHTML = docLinkHtml;\n",
              "          element.appendChild(docLink);\n",
              "        }\n",
              "      </script>\n",
              "    </div>\n",
              "  </div>\n",
              "  "
            ]
          },
          "metadata": {},
          "execution_count": 65
        }
      ]
    },
    {
      "cell_type": "code",
      "source": [
        "  %%sql loans_test3 << SELECT substr(l.date,0,3) year, amount, duration, payments, A11, A13, A2, A3,  99 - substr(birth_number,0,3) edad, \n",
        "  CASE status WHEN 'C' THEN 1\n",
        "              WHEN 'D' THEN 0\n",
        "  END label\n",
        "  FROM LOAN l, ACCOUNT a, CLIENT c, DISTRICT d, DISPOSITION p\n",
        "  WHERE a.district_id = d.A1 \n",
        "  AND l.account_id = a.account_id \n",
        "  AND c.client_id = p.client_id\n",
        "  AND p.account_id = a.account_id \n",
        "  AND l.status in (\"C\", \"D\")"
      ],
      "metadata": {
        "colab": {
          "base_uri": "https://localhost:8080/"
        },
        "id": "JTl1GzOyrpSf",
        "outputId": "1182d9d9-b418-4290-e36d-fca5bdd15904"
      },
      "execution_count": 66,
      "outputs": [
        {
          "output_type": "stream",
          "name": "stdout",
          "text": [
            " * sqlite:///data_berka.db\n",
            "Done.\n",
            "Returning data to local variable loans_test3\n"
          ]
        }
      ]
    },
    {
      "cell_type": "code",
      "source": [
        "df_test5 = loans_test3.DataFrame()\n",
        "df_test5.head()"
      ],
      "metadata": {
        "colab": {
          "base_uri": "https://localhost:8080/",
          "height": 206
        },
        "id": "c5Vk_sH7xlzS",
        "outputId": "b898ff3f-135a-4a3c-9bed-62a2739336c0"
      },
      "execution_count": 68,
      "outputs": [
        {
          "output_type": "execute_result",
          "data": {
            "text/plain": [
              "  year  amount  duration  payments   A11   A13          A2             A3  \\\n",
              "0   98  318480        60      5308  8547  3.64  Strakonice  south Bohemia   \n",
              "1   98  110736        48      2307  8402  3.98  Prachatice  south Bohemia   \n",
              "2   97  265320        36      7370  8254  3.76     Chrudim   east Bohemia   \n",
              "3   98  352704        48      7348  9104  2.07       Tabor  south Bohemia   \n",
              "4   97  162576        36      4516  9198  4.28     Liberec  north Bohemia   \n",
              "\n",
              "   edad  label  \n",
              "0    47      0  \n",
              "1    59      1  \n",
              "2    32      0  \n",
              "3    49      1  \n",
              "4    46      1  "
            ],
            "text/html": [
              "\n",
              "  <div id=\"df-36b9297c-205b-4456-97e5-9942f0b15a0c\">\n",
              "    <div class=\"colab-df-container\">\n",
              "      <div>\n",
              "<style scoped>\n",
              "    .dataframe tbody tr th:only-of-type {\n",
              "        vertical-align: middle;\n",
              "    }\n",
              "\n",
              "    .dataframe tbody tr th {\n",
              "        vertical-align: top;\n",
              "    }\n",
              "\n",
              "    .dataframe thead th {\n",
              "        text-align: right;\n",
              "    }\n",
              "</style>\n",
              "<table border=\"1\" class=\"dataframe\">\n",
              "  <thead>\n",
              "    <tr style=\"text-align: right;\">\n",
              "      <th></th>\n",
              "      <th>year</th>\n",
              "      <th>amount</th>\n",
              "      <th>duration</th>\n",
              "      <th>payments</th>\n",
              "      <th>A11</th>\n",
              "      <th>A13</th>\n",
              "      <th>A2</th>\n",
              "      <th>A3</th>\n",
              "      <th>edad</th>\n",
              "      <th>label</th>\n",
              "    </tr>\n",
              "  </thead>\n",
              "  <tbody>\n",
              "    <tr>\n",
              "      <th>0</th>\n",
              "      <td>98</td>\n",
              "      <td>318480</td>\n",
              "      <td>60</td>\n",
              "      <td>5308</td>\n",
              "      <td>8547</td>\n",
              "      <td>3.64</td>\n",
              "      <td>Strakonice</td>\n",
              "      <td>south Bohemia</td>\n",
              "      <td>47</td>\n",
              "      <td>0</td>\n",
              "    </tr>\n",
              "    <tr>\n",
              "      <th>1</th>\n",
              "      <td>98</td>\n",
              "      <td>110736</td>\n",
              "      <td>48</td>\n",
              "      <td>2307</td>\n",
              "      <td>8402</td>\n",
              "      <td>3.98</td>\n",
              "      <td>Prachatice</td>\n",
              "      <td>south Bohemia</td>\n",
              "      <td>59</td>\n",
              "      <td>1</td>\n",
              "    </tr>\n",
              "    <tr>\n",
              "      <th>2</th>\n",
              "      <td>97</td>\n",
              "      <td>265320</td>\n",
              "      <td>36</td>\n",
              "      <td>7370</td>\n",
              "      <td>8254</td>\n",
              "      <td>3.76</td>\n",
              "      <td>Chrudim</td>\n",
              "      <td>east Bohemia</td>\n",
              "      <td>32</td>\n",
              "      <td>0</td>\n",
              "    </tr>\n",
              "    <tr>\n",
              "      <th>3</th>\n",
              "      <td>98</td>\n",
              "      <td>352704</td>\n",
              "      <td>48</td>\n",
              "      <td>7348</td>\n",
              "      <td>9104</td>\n",
              "      <td>2.07</td>\n",
              "      <td>Tabor</td>\n",
              "      <td>south Bohemia</td>\n",
              "      <td>49</td>\n",
              "      <td>1</td>\n",
              "    </tr>\n",
              "    <tr>\n",
              "      <th>4</th>\n",
              "      <td>97</td>\n",
              "      <td>162576</td>\n",
              "      <td>36</td>\n",
              "      <td>4516</td>\n",
              "      <td>9198</td>\n",
              "      <td>4.28</td>\n",
              "      <td>Liberec</td>\n",
              "      <td>north Bohemia</td>\n",
              "      <td>46</td>\n",
              "      <td>1</td>\n",
              "    </tr>\n",
              "  </tbody>\n",
              "</table>\n",
              "</div>\n",
              "      <button class=\"colab-df-convert\" onclick=\"convertToInteractive('df-36b9297c-205b-4456-97e5-9942f0b15a0c')\"\n",
              "              title=\"Convert this dataframe to an interactive table.\"\n",
              "              style=\"display:none;\">\n",
              "        \n",
              "  <svg xmlns=\"http://www.w3.org/2000/svg\" height=\"24px\"viewBox=\"0 0 24 24\"\n",
              "       width=\"24px\">\n",
              "    <path d=\"M0 0h24v24H0V0z\" fill=\"none\"/>\n",
              "    <path d=\"M18.56 5.44l.94 2.06.94-2.06 2.06-.94-2.06-.94-.94-2.06-.94 2.06-2.06.94zm-11 1L8.5 8.5l.94-2.06 2.06-.94-2.06-.94L8.5 2.5l-.94 2.06-2.06.94zm10 10l.94 2.06.94-2.06 2.06-.94-2.06-.94-.94-2.06-.94 2.06-2.06.94z\"/><path d=\"M17.41 7.96l-1.37-1.37c-.4-.4-.92-.59-1.43-.59-.52 0-1.04.2-1.43.59L10.3 9.45l-7.72 7.72c-.78.78-.78 2.05 0 2.83L4 21.41c.39.39.9.59 1.41.59.51 0 1.02-.2 1.41-.59l7.78-7.78 2.81-2.81c.8-.78.8-2.07 0-2.86zM5.41 20L4 18.59l7.72-7.72 1.47 1.35L5.41 20z\"/>\n",
              "  </svg>\n",
              "      </button>\n",
              "      \n",
              "  <style>\n",
              "    .colab-df-container {\n",
              "      display:flex;\n",
              "      flex-wrap:wrap;\n",
              "      gap: 12px;\n",
              "    }\n",
              "\n",
              "    .colab-df-convert {\n",
              "      background-color: #E8F0FE;\n",
              "      border: none;\n",
              "      border-radius: 50%;\n",
              "      cursor: pointer;\n",
              "      display: none;\n",
              "      fill: #1967D2;\n",
              "      height: 32px;\n",
              "      padding: 0 0 0 0;\n",
              "      width: 32px;\n",
              "    }\n",
              "\n",
              "    .colab-df-convert:hover {\n",
              "      background-color: #E2EBFA;\n",
              "      box-shadow: 0px 1px 2px rgba(60, 64, 67, 0.3), 0px 1px 3px 1px rgba(60, 64, 67, 0.15);\n",
              "      fill: #174EA6;\n",
              "    }\n",
              "\n",
              "    [theme=dark] .colab-df-convert {\n",
              "      background-color: #3B4455;\n",
              "      fill: #D2E3FC;\n",
              "    }\n",
              "\n",
              "    [theme=dark] .colab-df-convert:hover {\n",
              "      background-color: #434B5C;\n",
              "      box-shadow: 0px 1px 3px 1px rgba(0, 0, 0, 0.15);\n",
              "      filter: drop-shadow(0px 1px 2px rgba(0, 0, 0, 0.3));\n",
              "      fill: #FFFFFF;\n",
              "    }\n",
              "  </style>\n",
              "\n",
              "      <script>\n",
              "        const buttonEl =\n",
              "          document.querySelector('#df-36b9297c-205b-4456-97e5-9942f0b15a0c button.colab-df-convert');\n",
              "        buttonEl.style.display =\n",
              "          google.colab.kernel.accessAllowed ? 'block' : 'none';\n",
              "\n",
              "        async function convertToInteractive(key) {\n",
              "          const element = document.querySelector('#df-36b9297c-205b-4456-97e5-9942f0b15a0c');\n",
              "          const dataTable =\n",
              "            await google.colab.kernel.invokeFunction('convertToInteractive',\n",
              "                                                     [key], {});\n",
              "          if (!dataTable) return;\n",
              "\n",
              "          const docLinkHtml = 'Like what you see? Visit the ' +\n",
              "            '<a target=\"_blank\" href=https://colab.research.google.com/notebooks/data_table.ipynb>data table notebook</a>'\n",
              "            + ' to learn more about interactive tables.';\n",
              "          element.innerHTML = '';\n",
              "          dataTable['output_type'] = 'display_data';\n",
              "          await google.colab.output.renderOutput(dataTable, element);\n",
              "          const docLink = document.createElement('div');\n",
              "          docLink.innerHTML = docLinkHtml;\n",
              "          element.appendChild(docLink);\n",
              "        }\n",
              "      </script>\n",
              "    </div>\n",
              "  </div>\n",
              "  "
            ]
          },
          "metadata": {},
          "execution_count": 68
        }
      ]
    },
    {
      "cell_type": "code",
      "source": [
        "df_test5.shape"
      ],
      "metadata": {
        "colab": {
          "base_uri": "https://localhost:8080/"
        },
        "id": "fyH4svCQYmkj",
        "outputId": "6d7cabaf-fce9-4fe2-b9b9-585a5a35d549"
      },
      "execution_count": 69,
      "outputs": [
        {
          "output_type": "execute_result",
          "data": {
            "text/plain": [
              "(538, 10)"
            ]
          },
          "metadata": {},
          "execution_count": 69
        }
      ]
    },
    {
      "cell_type": "markdown",
      "metadata": {
        "id": "AcgHrYibsQn3"
      },
      "source": [
        "## 4. División de los datos en entrenamiento y test."
      ]
    },
    {
      "cell_type": "markdown",
      "source": [
        "> `features` es una variable de tipo lista que me almacena los nombres de las características que me sirven como **entrada**"
      ],
      "metadata": {
        "id": "8WpAeR8WIUm1"
      }
    },
    {
      "cell_type": "code",
      "source": [
        "features = [\"year\", \"amount\", \"duration\", \"payments\",\"A11\", \"A13\"]"
      ],
      "metadata": {
        "id": "mH1b4h27kA85"
      },
      "execution_count": 70,
      "outputs": []
    },
    {
      "cell_type": "markdown",
      "source": [
        "Los datos los hemos dividido en:\n",
        "* train (creación del modelo) : datos de préstamos ya finalizados.\n",
        "* test (evaluación del modelo): datos de préstamos en ejecución."
      ],
      "metadata": {
        "id": "Gyt-TgZ3IXEi"
      }
    },
    {
      "cell_type": "code",
      "metadata": {
        "id": "iRV2W22-sTKg"
      },
      "source": [
        "X_train = df_train[features]\n",
        "y_train = df_train[\"label\"]\n",
        "\n",
        "X_test = df_test[features]\n",
        "y_test = df_test[\"label\"]"
      ],
      "execution_count": 71,
      "outputs": []
    },
    {
      "cell_type": "markdown",
      "source": [
        "## 5. Normalizarlos puede ser una buena medida para obtener mejores resultados.\n",
        "Para ello vamos a utilizar el [StandardScaler](https://scikit-learn.org/stable/modules/generated/sklearn.preprocessing.StandardScaler.html)\n",
        "\n",
        "El centrado y el escalado se realizan de forma independiente en cada característica, calculando las estadísticas pertinentes en las muestras del **conjunto de entrenamiento**. La media y la desviación estándar se almacenan para utilizarlas en datos posteriores mediante una **transformación**.\n",
        "\n",
        "> Más información sobre normalización en el siguiente [enlace](https://scikit-learn.org/stable/modules/preprocessing.html#preprocessing-scaler).\n"
      ],
      "metadata": {
        "id": "TWn1Xr-Cqas7"
      }
    },
    {
      "cell_type": "code",
      "source": [
        "from sklearn.preprocessing import StandardScaler\n",
        "scaler = StandardScaler()\n",
        "# cálculo de los factores de centrado y escalado.\n",
        "scaler.fit(X_train) \n",
        "# transformación.\n",
        "X_train = scaler.transform(X_train)\n",
        "X_test = scaler.transform(X_test)"
      ],
      "metadata": {
        "id": "BaaMrekmpKH3"
      },
      "execution_count": 72,
      "outputs": []
    },
    {
      "cell_type": "markdown",
      "source": [
        "> **scaler.fit(X_train) **-> son medias y desviaciones que sólo haces a train. Realmente lo haces a train y con eso lo \"comparas\" con train y test. Si coges train y test es un error y además muy común. "
      ],
      "metadata": {
        "id": "9wsYJ7F1Vhx6"
      }
    },
    {
      "cell_type": "markdown",
      "source": [
        "## 6. Aplicamos un modelo [NaiveBayes](https://scikit-learn.org/stable/modules/naive_bayes.html?highlight=naive+bayes) para construir un clasificador de préstamos."
      ],
      "metadata": {
        "id": "Uf-IVArsl8qM"
      }
    },
    {
      "cell_type": "code",
      "source": [
        "from sklearn.naive_bayes import GaussianNB #, MultinomialNB, BernoulliNB, ComplementNB\n",
        "gnb = GaussianNB()\n",
        "clf = gnb.fit(X_train, y_train)\n",
        "y_pred = clf.predict(X_test)\n",
        "print(\"El número de préstamos mal clasificados de un total de: %d, son: %d.\"  % (X_test.shape[0], (y_test != y_pred).sum()))\n",
        "#Muestra de resultados sencilla. "
      ],
      "metadata": {
        "colab": {
          "base_uri": "https://localhost:8080/"
        },
        "id": "MZHrLj9inBOv",
        "outputId": "fd6d8c15-90a3-4583-8461-5161ef086219"
      },
      "execution_count": 73,
      "outputs": [
        {
          "output_type": "stream",
          "name": "stdout",
          "text": [
            "El número de préstamos mal clasificados de un total de: 448, son: 123.\n"
          ]
        }
      ]
    },
    {
      "cell_type": "markdown",
      "source": [
        "Para ver que resultados tenemos sobre la colección de `test` utilizamos en primer lugar el informe de los resultados [`classification report`](https://scikit-learn.org/stable/modules/model_evaluation.html#classification-report)."
      ],
      "metadata": {
        "id": "sSXcCuddmOFV"
      }
    },
    {
      "cell_type": "code",
      "source": [
        "from sklearn.metrics import classification_report\n",
        "print(classification_report(y_test, y_pred, labels=clf.classes_))\n",
        "#Muestra de resultados + completa. "
      ],
      "metadata": {
        "colab": {
          "base_uri": "https://localhost:8080/"
        },
        "id": "f9BITuBznBAC",
        "outputId": "cc7559ba-68d0-4f27-ea77-432a38c92aaf"
      },
      "execution_count": 74,
      "outputs": [
        {
          "output_type": "stream",
          "name": "stdout",
          "text": [
            "              precision    recall  f1-score   support\n",
            "\n",
            "           0       0.20      0.60      0.31        45\n",
            "           1       0.94      0.74      0.83       403\n",
            "\n",
            "    accuracy                           0.73       448\n",
            "   macro avg       0.57      0.67      0.57       448\n",
            "weighted avg       0.87      0.73      0.78       448\n",
            "\n"
          ]
        }
      ]
    },
    {
      "cell_type": "markdown",
      "source": [
        "## 7. Y la [matriz de confusión](https://scikit-learn.org/stable/modules/generated/sklearn.metrics.ConfusionMatrixDisplay.html)."
      ],
      "metadata": {
        "id": "rosWtD4MnPAw"
      }
    },
    {
      "cell_type": "code",
      "source": [
        "import matplotlib.pyplot as plt\n",
        "from sklearn.metrics import confusion_matrix, ConfusionMatrixDisplay\n",
        "cm = confusion_matrix(y_test, y_pred, labels= clf.classes_)\n",
        "disp = ConfusionMatrixDisplay(confusion_matrix=cm, display_labels=clf.classes_)\n",
        "disp.plot()"
      ],
      "metadata": {
        "colab": {
          "base_uri": "https://localhost:8080/",
          "height": 297
        },
        "id": "qSZzOldtoOku",
        "outputId": "3dd01113-cd5e-484a-dd83-1a050cae2396"
      },
      "execution_count": 75,
      "outputs": [
        {
          "output_type": "execute_result",
          "data": {
            "text/plain": [
              "<sklearn.metrics._plot.confusion_matrix.ConfusionMatrixDisplay at 0x7fe71fa51990>"
            ]
          },
          "metadata": {},
          "execution_count": 75
        },
        {
          "output_type": "display_data",
          "data": {
            "text/plain": [
              "<Figure size 432x288 with 2 Axes>"
            ],
            "image/png": "[encoded data removed]"
          },
          "metadata": {
            "needs_background": "light"
          }
        }
      ]
    },
    {
      "cell_type": "markdown",
      "source": [
        "Diagonal principal aciertos. El resto errores. El azul es lo que hemos fallado que pensaban que iban a pagar y no han pagado...(dependiendo de lo que sea 0 y 1 para nosotros y lo que hayamos definido antes). "
      ],
      "metadata": {
        "id": "b-CCGiUwMWIl"
      }
    },
    {
      "cell_type": "markdown",
      "source": [
        "> Otras transformaciones: Discretización y utilización de otros clasificadores NB (algo + avanzado)."
      ],
      "metadata": {
        "id": "Yw5-uXQF33VO"
      }
    },
    {
      "cell_type": "markdown",
      "source": [
        "### Ejercicio 2:\n",
        "\n",
        "Plantear el clasificador de préstamos añadiendo datos de otras tablas de la base de datos, u otros campos de las mismas tablas (edad del cliente, etc).\n"
      ],
      "metadata": {
        "id": "rPkodIffcBxb"
      }
    },
    {
      "cell_type": "code",
      "source": [
        "  %%sql loans_train2 << SELECT substr(l.date,0,3) year, l.amount, duration, payments, A11, A13, A2, A3, bank_to, 99 - substr(birth_number,0,3) edad,\n",
        "  CASE status WHEN 'A' THEN 1\n",
        "              WHEN 'B' THEN 0\n",
        "  END label\n",
        "  FROM LOAN l, ACCOUNT a, DISTRICT d, PERMANENT_ORDER o, CLIENT c, DISPOSITION p\n",
        "  WHERE a.district_id = d.A1 \n",
        "  AND l.account_id = a.account_id \n",
        "  AND o.account_id = a.account_id\n",
        "  AND c.client_id = p.client_id\n",
        "  AND p.account_id = a.account_id \n",
        "  AND l.status in (\"A\", \"B\")"
      ],
      "metadata": {
        "colab": {
          "base_uri": "https://localhost:8080/"
        },
        "id": "QSUrBNFp4KKX",
        "outputId": "776a574d-8d8f-41fd-e0b3-7b4e792cb253"
      },
      "execution_count": 40,
      "outputs": [
        {
          "output_type": "stream",
          "name": "stdout",
          "text": [
            " * sqlite:///data_berka.db\n",
            "Done.\n",
            "Returning data to local variable loans_train2\n"
          ]
        }
      ]
    },
    {
      "cell_type": "code",
      "source": [
        "df_train2 = loans_train2.DataFrame()\n",
        "df_train2.head()"
      ],
      "metadata": {
        "colab": {
          "base_uri": "https://localhost:8080/",
          "height": 206
        },
        "id": "UVjPqg4C_Epy",
        "outputId": "8c04ca05-2c20-4e33-93c4-efe0abd380e7"
      },
      "execution_count": 42,
      "outputs": [
        {
          "output_type": "execute_result",
          "data": {
            "text/plain": [
              "  year  amount  duration  payments    A11   A13           A2             A3  \\\n",
              "0   94   80952        24      3373  12541  0.43  Hl.m. Praha         Prague   \n",
              "1   94   80952        24      3373  12541  0.43  Hl.m. Praha         Prague   \n",
              "2   94   80952        24      3373  12541  0.43  Hl.m. Praha         Prague   \n",
              "3   94   80952        24      3373  12541  0.43  Hl.m. Praha         Prague   \n",
              "4   96   30276        12      2523   9104  2.07        Tabor  south Bohemia   \n",
              "\n",
              "  bank_to  edad  label  \n",
              "0      QR    54      1  \n",
              "1      ST    54      1  \n",
              "2      QR    59      1  \n",
              "3      ST    59      1  \n",
              "4      QR    60      0  "
            ],
            "text/html": [
              "\n",
              "  <div id=\"df-87c7b088-98bb-4379-bcab-76e7c1eb8ab0\">\n",
              "    <div class=\"colab-df-container\">\n",
              "      <div>\n",
              "<style scoped>\n",
              "    .dataframe tbody tr th:only-of-type {\n",
              "        vertical-align: middle;\n",
              "    }\n",
              "\n",
              "    .dataframe tbody tr th {\n",
              "        vertical-align: top;\n",
              "    }\n",
              "\n",
              "    .dataframe thead th {\n",
              "        text-align: right;\n",
              "    }\n",
              "</style>\n",
              "<table border=\"1\" class=\"dataframe\">\n",
              "  <thead>\n",
              "    <tr style=\"text-align: right;\">\n",
              "      <th></th>\n",
              "      <th>year</th>\n",
              "      <th>amount</th>\n",
              "      <th>duration</th>\n",
              "      <th>payments</th>\n",
              "      <th>A11</th>\n",
              "      <th>A13</th>\n",
              "      <th>A2</th>\n",
              "      <th>A3</th>\n",
              "      <th>bank_to</th>\n",
              "      <th>edad</th>\n",
              "      <th>label</th>\n",
              "    </tr>\n",
              "  </thead>\n",
              "  <tbody>\n",
              "    <tr>\n",
              "      <th>0</th>\n",
              "      <td>94</td>\n",
              "      <td>80952</td>\n",
              "      <td>24</td>\n",
              "      <td>3373</td>\n",
              "      <td>12541</td>\n",
              "      <td>0.43</td>\n",
              "      <td>Hl.m. Praha</td>\n",
              "      <td>Prague</td>\n",
              "      <td>QR</td>\n",
              "      <td>54</td>\n",
              "      <td>1</td>\n",
              "    </tr>\n",
              "    <tr>\n",
              "      <th>1</th>\n",
              "      <td>94</td>\n",
              "      <td>80952</td>\n",
              "      <td>24</td>\n",
              "      <td>3373</td>\n",
              "      <td>12541</td>\n",
              "      <td>0.43</td>\n",
              "      <td>Hl.m. Praha</td>\n",
              "      <td>Prague</td>\n",
              "      <td>ST</td>\n",
              "      <td>54</td>\n",
              "      <td>1</td>\n",
              "    </tr>\n",
              "    <tr>\n",
              "      <th>2</th>\n",
              "      <td>94</td>\n",
              "      <td>80952</td>\n",
              "      <td>24</td>\n",
              "      <td>3373</td>\n",
              "      <td>12541</td>\n",
              "      <td>0.43</td>\n",
              "      <td>Hl.m. Praha</td>\n",
              "      <td>Prague</td>\n",
              "      <td>QR</td>\n",
              "      <td>59</td>\n",
              "      <td>1</td>\n",
              "    </tr>\n",
              "    <tr>\n",
              "      <th>3</th>\n",
              "      <td>94</td>\n",
              "      <td>80952</td>\n",
              "      <td>24</td>\n",
              "      <td>3373</td>\n",
              "      <td>12541</td>\n",
              "      <td>0.43</td>\n",
              "      <td>Hl.m. Praha</td>\n",
              "      <td>Prague</td>\n",
              "      <td>ST</td>\n",
              "      <td>59</td>\n",
              "      <td>1</td>\n",
              "    </tr>\n",
              "    <tr>\n",
              "      <th>4</th>\n",
              "      <td>96</td>\n",
              "      <td>30276</td>\n",
              "      <td>12</td>\n",
              "      <td>2523</td>\n",
              "      <td>9104</td>\n",
              "      <td>2.07</td>\n",
              "      <td>Tabor</td>\n",
              "      <td>south Bohemia</td>\n",
              "      <td>QR</td>\n",
              "      <td>60</td>\n",
              "      <td>0</td>\n",
              "    </tr>\n",
              "  </tbody>\n",
              "</table>\n",
              "</div>\n",
              "      <button class=\"colab-df-convert\" onclick=\"convertToInteractive('df-87c7b088-98bb-4379-bcab-76e7c1eb8ab0')\"\n",
              "              title=\"Convert this dataframe to an interactive table.\"\n",
              "              style=\"display:none;\">\n",
              "        \n",
              "  <svg xmlns=\"http://www.w3.org/2000/svg\" height=\"24px\"viewBox=\"0 0 24 24\"\n",
              "       width=\"24px\">\n",
              "    <path d=\"M0 0h24v24H0V0z\" fill=\"none\"/>\n",
              "    <path d=\"M18.56 5.44l.94 2.06.94-2.06 2.06-.94-2.06-.94-.94-2.06-.94 2.06-2.06.94zm-11 1L8.5 8.5l.94-2.06 2.06-.94-2.06-.94L8.5 2.5l-.94 2.06-2.06.94zm10 10l.94 2.06.94-2.06 2.06-.94-2.06-.94-.94-2.06-.94 2.06-2.06.94z\"/><path d=\"M17.41 7.96l-1.37-1.37c-.4-.4-.92-.59-1.43-.59-.52 0-1.04.2-1.43.59L10.3 9.45l-7.72 7.72c-.78.78-.78 2.05 0 2.83L4 21.41c.39.39.9.59 1.41.59.51 0 1.02-.2 1.41-.59l7.78-7.78 2.81-2.81c.8-.78.8-2.07 0-2.86zM5.41 20L4 18.59l7.72-7.72 1.47 1.35L5.41 20z\"/>\n",
              "  </svg>\n",
              "      </button>\n",
              "      \n",
              "  <style>\n",
              "    .colab-df-container {\n",
              "      display:flex;\n",
              "      flex-wrap:wrap;\n",
              "      gap: 12px;\n",
              "    }\n",
              "\n",
              "    .colab-df-convert {\n",
              "      background-color: #E8F0FE;\n",
              "      border: none;\n",
              "      border-radius: 50%;\n",
              "      cursor: pointer;\n",
              "      display: none;\n",
              "      fill: #1967D2;\n",
              "      height: 32px;\n",
              "      padding: 0 0 0 0;\n",
              "      width: 32px;\n",
              "    }\n",
              "\n",
              "    .colab-df-convert:hover {\n",
              "      background-color: #E2EBFA;\n",
              "      box-shadow: 0px 1px 2px rgba(60, 64, 67, 0.3), 0px 1px 3px 1px rgba(60, 64, 67, 0.15);\n",
              "      fill: #174EA6;\n",
              "    }\n",
              "\n",
              "    [theme=dark] .colab-df-convert {\n",
              "      background-color: #3B4455;\n",
              "      fill: #D2E3FC;\n",
              "    }\n",
              "\n",
              "    [theme=dark] .colab-df-convert:hover {\n",
              "      background-color: #434B5C;\n",
              "      box-shadow: 0px 1px 3px 1px rgba(0, 0, 0, 0.15);\n",
              "      filter: drop-shadow(0px 1px 2px rgba(0, 0, 0, 0.3));\n",
              "      fill: #FFFFFF;\n",
              "    }\n",
              "  </style>\n",
              "\n",
              "      <script>\n",
              "        const buttonEl =\n",
              "          document.querySelector('#df-87c7b088-98bb-4379-bcab-76e7c1eb8ab0 button.colab-df-convert');\n",
              "        buttonEl.style.display =\n",
              "          google.colab.kernel.accessAllowed ? 'block' : 'none';\n",
              "\n",
              "        async function convertToInteractive(key) {\n",
              "          const element = document.querySelector('#df-87c7b088-98bb-4379-bcab-76e7c1eb8ab0');\n",
              "          const dataTable =\n",
              "            await google.colab.kernel.invokeFunction('convertToInteractive',\n",
              "                                                     [key], {});\n",
              "          if (!dataTable) return;\n",
              "\n",
              "          const docLinkHtml = 'Like what you see? Visit the ' +\n",
              "            '<a target=\"_blank\" href=https://colab.research.google.com/notebooks/data_table.ipynb>data table notebook</a>'\n",
              "            + ' to learn more about interactive tables.';\n",
              "          element.innerHTML = '';\n",
              "          dataTable['output_type'] = 'display_data';\n",
              "          await google.colab.output.renderOutput(dataTable, element);\n",
              "          const docLink = document.createElement('div');\n",
              "          docLink.innerHTML = docLinkHtml;\n",
              "          element.appendChild(docLink);\n",
              "        }\n",
              "      </script>\n",
              "    </div>\n",
              "  </div>\n",
              "  "
            ]
          },
          "metadata": {},
          "execution_count": 42
        }
      ]
    },
    {
      "cell_type": "code",
      "source": [
        "df_train2.shape"
      ],
      "metadata": {
        "colab": {
          "base_uri": "https://localhost:8080/"
        },
        "id": "d23tQWbe-2rE",
        "outputId": "ddb57242-d597-43ca-dc24-21c452f13b17"
      },
      "execution_count": 43,
      "outputs": [
        {
          "output_type": "execute_result",
          "data": {
            "text/plain": [
              "(669, 11)"
            ]
          },
          "metadata": {},
          "execution_count": 43
        }
      ]
    },
    {
      "cell_type": "code",
      "source": [
        "  %%sql loans_test2 << SELECT substr(l.date,0,3) year, l.amount, duration, payments, A11, A13, A2, A3, bank_to, 99 - substr(birth_number,0,3) edad,\n",
        "  CASE status WHEN 'C' THEN 1\n",
        "              WHEN 'D' THEN 0\n",
        "  END label\n",
        "  FROM LOAN l, ACCOUNT a, DISTRICT d, PERMANENT_ORDER o, CLIENT c, DISPOSITION p\n",
        "  WHERE a.district_id = d.A1 \n",
        "  AND l.account_id = a.account_id \n",
        "  AND o.account_id = a.account_id\n",
        "  AND c.client_id = p.client_id\n",
        "  AND p.account_id = a.account_id \n",
        "  AND l.status in (\"C\", \"D\")"
      ],
      "metadata": {
        "colab": {
          "base_uri": "https://localhost:8080/"
        },
        "id": "rWbCEnQ64KEm",
        "outputId": "b8b343d7-d45d-442a-9830-07546bca39f8"
      },
      "execution_count": 44,
      "outputs": [
        {
          "output_type": "stream",
          "name": "stdout",
          "text": [
            " * sqlite:///data_berka.db\n",
            "Done.\n",
            "Returning data to local variable loans_test2\n"
          ]
        }
      ]
    },
    {
      "cell_type": "code",
      "source": [
        "df_test2 = loans_test2.DataFrame()\n",
        "df_test2.head()"
      ],
      "metadata": {
        "colab": {
          "base_uri": "https://localhost:8080/",
          "height": 206
        },
        "id": "dZJcbgjE7gdW",
        "outputId": "8b88fac3-490f-41b4-8957-d1e76a392d8c"
      },
      "execution_count": 45,
      "outputs": [
        {
          "output_type": "execute_result",
          "data": {
            "text/plain": [
              "  year  amount  duration  payments   A11   A13          A2             A3  \\\n",
              "0   98  318480        60      5308  8547  3.64  Strakonice  south Bohemia   \n",
              "1   98  318480        60      5308  8547  3.64  Strakonice  south Bohemia   \n",
              "2   98  318480        60      5308  8547  3.64  Strakonice  south Bohemia   \n",
              "3   98  318480        60      5308  8547  3.64  Strakonice  south Bohemia   \n",
              "4   98  110736        48      2307  8402  3.98  Prachatice  south Bohemia   \n",
              "\n",
              "  bank_to  edad  label  \n",
              "0      IJ    47      0  \n",
              "1      OP    47      0  \n",
              "2      QR    47      0  \n",
              "3      YZ    47      0  \n",
              "4      EF    59      1  "
            ],
            "text/html": [
              "\n",
              "  <div id=\"df-9a342487-4ba3-4b1a-ad12-4d8862a22a02\">\n",
              "    <div class=\"colab-df-container\">\n",
              "      <div>\n",
              "<style scoped>\n",
              "    .dataframe tbody tr th:only-of-type {\n",
              "        vertical-align: middle;\n",
              "    }\n",
              "\n",
              "    .dataframe tbody tr th {\n",
              "        vertical-align: top;\n",
              "    }\n",
              "\n",
              "    .dataframe thead th {\n",
              "        text-align: right;\n",
              "    }\n",
              "</style>\n",
              "<table border=\"1\" class=\"dataframe\">\n",
              "  <thead>\n",
              "    <tr style=\"text-align: right;\">\n",
              "      <th></th>\n",
              "      <th>year</th>\n",
              "      <th>amount</th>\n",
              "      <th>duration</th>\n",
              "      <th>payments</th>\n",
              "      <th>A11</th>\n",
              "      <th>A13</th>\n",
              "      <th>A2</th>\n",
              "      <th>A3</th>\n",
              "      <th>bank_to</th>\n",
              "      <th>edad</th>\n",
              "      <th>label</th>\n",
              "    </tr>\n",
              "  </thead>\n",
              "  <tbody>\n",
              "    <tr>\n",
              "      <th>0</th>\n",
              "      <td>98</td>\n",
              "      <td>318480</td>\n",
              "      <td>60</td>\n",
              "      <td>5308</td>\n",
              "      <td>8547</td>\n",
              "      <td>3.64</td>\n",
              "      <td>Strakonice</td>\n",
              "      <td>south Bohemia</td>\n",
              "      <td>IJ</td>\n",
              "      <td>47</td>\n",
              "      <td>0</td>\n",
              "    </tr>\n",
              "    <tr>\n",
              "      <th>1</th>\n",
              "      <td>98</td>\n",
              "      <td>318480</td>\n",
              "      <td>60</td>\n",
              "      <td>5308</td>\n",
              "      <td>8547</td>\n",
              "      <td>3.64</td>\n",
              "      <td>Strakonice</td>\n",
              "      <td>south Bohemia</td>\n",
              "      <td>OP</td>\n",
              "      <td>47</td>\n",
              "      <td>0</td>\n",
              "    </tr>\n",
              "    <tr>\n",
              "      <th>2</th>\n",
              "      <td>98</td>\n",
              "      <td>318480</td>\n",
              "      <td>60</td>\n",
              "      <td>5308</td>\n",
              "      <td>8547</td>\n",
              "      <td>3.64</td>\n",
              "      <td>Strakonice</td>\n",
              "      <td>south Bohemia</td>\n",
              "      <td>QR</td>\n",
              "      <td>47</td>\n",
              "      <td>0</td>\n",
              "    </tr>\n",
              "    <tr>\n",
              "      <th>3</th>\n",
              "      <td>98</td>\n",
              "      <td>318480</td>\n",
              "      <td>60</td>\n",
              "      <td>5308</td>\n",
              "      <td>8547</td>\n",
              "      <td>3.64</td>\n",
              "      <td>Strakonice</td>\n",
              "      <td>south Bohemia</td>\n",
              "      <td>YZ</td>\n",
              "      <td>47</td>\n",
              "      <td>0</td>\n",
              "    </tr>\n",
              "    <tr>\n",
              "      <th>4</th>\n",
              "      <td>98</td>\n",
              "      <td>110736</td>\n",
              "      <td>48</td>\n",
              "      <td>2307</td>\n",
              "      <td>8402</td>\n",
              "      <td>3.98</td>\n",
              "      <td>Prachatice</td>\n",
              "      <td>south Bohemia</td>\n",
              "      <td>EF</td>\n",
              "      <td>59</td>\n",
              "      <td>1</td>\n",
              "    </tr>\n",
              "  </tbody>\n",
              "</table>\n",
              "</div>\n",
              "      <button class=\"colab-df-convert\" onclick=\"convertToInteractive('df-9a342487-4ba3-4b1a-ad12-4d8862a22a02')\"\n",
              "              title=\"Convert this dataframe to an interactive table.\"\n",
              "              style=\"display:none;\">\n",
              "        \n",
              "  <svg xmlns=\"http://www.w3.org/2000/svg\" height=\"24px\"viewBox=\"0 0 24 24\"\n",
              "       width=\"24px\">\n",
              "    <path d=\"M0 0h24v24H0V0z\" fill=\"none\"/>\n",
              "    <path d=\"M18.56 5.44l.94 2.06.94-2.06 2.06-.94-2.06-.94-.94-2.06-.94 2.06-2.06.94zm-11 1L8.5 8.5l.94-2.06 2.06-.94-2.06-.94L8.5 2.5l-.94 2.06-2.06.94zm10 10l.94 2.06.94-2.06 2.06-.94-2.06-.94-.94-2.06-.94 2.06-2.06.94z\"/><path d=\"M17.41 7.96l-1.37-1.37c-.4-.4-.92-.59-1.43-.59-.52 0-1.04.2-1.43.59L10.3 9.45l-7.72 7.72c-.78.78-.78 2.05 0 2.83L4 21.41c.39.39.9.59 1.41.59.51 0 1.02-.2 1.41-.59l7.78-7.78 2.81-2.81c.8-.78.8-2.07 0-2.86zM5.41 20L4 18.59l7.72-7.72 1.47 1.35L5.41 20z\"/>\n",
              "  </svg>\n",
              "      </button>\n",
              "      \n",
              "  <style>\n",
              "    .colab-df-container {\n",
              "      display:flex;\n",
              "      flex-wrap:wrap;\n",
              "      gap: 12px;\n",
              "    }\n",
              "\n",
              "    .colab-df-convert {\n",
              "      background-color: #E8F0FE;\n",
              "      border: none;\n",
              "      border-radius: 50%;\n",
              "      cursor: pointer;\n",
              "      display: none;\n",
              "      fill: #1967D2;\n",
              "      height: 32px;\n",
              "      padding: 0 0 0 0;\n",
              "      width: 32px;\n",
              "    }\n",
              "\n",
              "    .colab-df-convert:hover {\n",
              "      background-color: #E2EBFA;\n",
              "      box-shadow: 0px 1px 2px rgba(60, 64, 67, 0.3), 0px 1px 3px 1px rgba(60, 64, 67, 0.15);\n",
              "      fill: #174EA6;\n",
              "    }\n",
              "\n",
              "    [theme=dark] .colab-df-convert {\n",
              "      background-color: #3B4455;\n",
              "      fill: #D2E3FC;\n",
              "    }\n",
              "\n",
              "    [theme=dark] .colab-df-convert:hover {\n",
              "      background-color: #434B5C;\n",
              "      box-shadow: 0px 1px 3px 1px rgba(0, 0, 0, 0.15);\n",
              "      filter: drop-shadow(0px 1px 2px rgba(0, 0, 0, 0.3));\n",
              "      fill: #FFFFFF;\n",
              "    }\n",
              "  </style>\n",
              "\n",
              "      <script>\n",
              "        const buttonEl =\n",
              "          document.querySelector('#df-9a342487-4ba3-4b1a-ad12-4d8862a22a02 button.colab-df-convert');\n",
              "        buttonEl.style.display =\n",
              "          google.colab.kernel.accessAllowed ? 'block' : 'none';\n",
              "\n",
              "        async function convertToInteractive(key) {\n",
              "          const element = document.querySelector('#df-9a342487-4ba3-4b1a-ad12-4d8862a22a02');\n",
              "          const dataTable =\n",
              "            await google.colab.kernel.invokeFunction('convertToInteractive',\n",
              "                                                     [key], {});\n",
              "          if (!dataTable) return;\n",
              "\n",
              "          const docLinkHtml = 'Like what you see? Visit the ' +\n",
              "            '<a target=\"_blank\" href=https://colab.research.google.com/notebooks/data_table.ipynb>data table notebook</a>'\n",
              "            + ' to learn more about interactive tables.';\n",
              "          element.innerHTML = '';\n",
              "          dataTable['output_type'] = 'display_data';\n",
              "          await google.colab.output.renderOutput(dataTable, element);\n",
              "          const docLink = document.createElement('div');\n",
              "          docLink.innerHTML = docLinkHtml;\n",
              "          element.appendChild(docLink);\n",
              "        }\n",
              "      </script>\n",
              "    </div>\n",
              "  </div>\n",
              "  "
            ]
          },
          "metadata": {},
          "execution_count": 45
        }
      ]
    },
    {
      "cell_type": "code",
      "source": [
        "df_test2.shape"
      ],
      "metadata": {
        "colab": {
          "base_uri": "https://localhost:8080/"
        },
        "id": "gfYH9nlE-_1Y",
        "outputId": "0a57614d-d4b3-47ac-d671-c03e10969397"
      },
      "execution_count": 46,
      "outputs": [
        {
          "output_type": "execute_result",
          "data": {
            "text/plain": [
              "(1172, 11)"
            ]
          },
          "metadata": {},
          "execution_count": 46
        }
      ]
    },
    {
      "cell_type": "code",
      "source": [
        "features2 = [\"year\", \"amount\", \"duration\", \"payments\"]"
      ],
      "metadata": {
        "id": "22BooAlr4J-z"
      },
      "execution_count": 47,
      "outputs": []
    },
    {
      "cell_type": "code",
      "source": [
        "X_train3= df_train2[features2]\n",
        "y_train3 = df_train2[\"label\"]\n",
        "\n",
        "X_test3 = df_test2[features2]\n",
        "y_test3= df_test2[\"label\"]"
      ],
      "metadata": {
        "id": "8hk_7apS4J49"
      },
      "execution_count": 48,
      "outputs": []
    },
    {
      "cell_type": "code",
      "source": [
        "from sklearn.preprocessing import StandardScaler\n",
        "scaler = StandardScaler()\n",
        "scaler.fit(X_train3) \n",
        "X_train3 = scaler.transform(X_train3)\n",
        "X_test3 = scaler.transform(X_test3)"
      ],
      "metadata": {
        "id": "hVl6nHP14Jyt"
      },
      "execution_count": 49,
      "outputs": []
    },
    {
      "cell_type": "code",
      "source": [
        "from sklearn.naive_bayes import GaussianNB \n",
        "gnb = GaussianNB()\n",
        "clf = gnb.fit(X_train3, y_train3)\n",
        "y_pred = clf.predict(X_test3)\n",
        "print(\"El número de préstamos mal clasificados de un total de: %d, son: %d.\"  % (X_test3.shape[0], (y_test3 != y_pred).sum()), )"
      ],
      "metadata": {
        "colab": {
          "base_uri": "https://localhost:8080/"
        },
        "id": "4ma6MHDb4JjM",
        "outputId": "2d76846c-a4f0-4e44-89a5-4b506fdedb45"
      },
      "execution_count": 50,
      "outputs": [
        {
          "output_type": "stream",
          "name": "stdout",
          "text": [
            "El número de préstamos mal clasificados de un total de: 1172, son: 274.\n"
          ]
        }
      ]
    },
    {
      "cell_type": "code",
      "source": [
        "from sklearn.metrics import classification_report\n",
        "print(classification_report(y_test3, y_pred, labels=clf.classes_))"
      ],
      "metadata": {
        "colab": {
          "base_uri": "https://localhost:8080/"
        },
        "id": "c1BqCb1yBYis",
        "outputId": "eb3ad14a-789c-46a2-a676-56c860775fbc"
      },
      "execution_count": 51,
      "outputs": [
        {
          "output_type": "stream",
          "name": "stdout",
          "text": [
            "              precision    recall  f1-score   support\n",
            "\n",
            "           0       0.18      0.71      0.28        76\n",
            "           1       0.97      0.77      0.86      1096\n",
            "\n",
            "    accuracy                           0.77      1172\n",
            "   macro avg       0.58      0.74      0.57      1172\n",
            "weighted avg       0.92      0.77      0.82      1172\n",
            "\n"
          ]
        }
      ]
    },
    {
      "cell_type": "code",
      "source": [
        "import matplotlib.pyplot as plt\n",
        "from sklearn.metrics import confusion_matrix, ConfusionMatrixDisplay\n",
        "cm = confusion_matrix(y_test3, y_pred, labels= clf.classes_)\n",
        "disp = ConfusionMatrixDisplay(confusion_matrix=cm, display_labels=clf.classes_)\n",
        "disp.plot()"
      ],
      "metadata": {
        "colab": {
          "base_uri": "https://localhost:8080/",
          "height": 297
        },
        "id": "iul3ljIWzhbX",
        "outputId": "4adbffc6-121e-43da-bbfb-b8d33dbdabde"
      },
      "execution_count": 52,
      "outputs": [
        {
          "output_type": "execute_result",
          "data": {
            "text/plain": [
              "<sklearn.metrics._plot.confusion_matrix.ConfusionMatrixDisplay at 0x7fe7202e8610>"
            ]
          },
          "metadata": {},
          "execution_count": 52
        },
        {
          "output_type": "display_data",
          "data": {
            "text/plain": [
              "<Figure size 432x288 with 2 Axes>"
            ],
            "image/png": "[encoded data removed]"
          },
          "metadata": {
            "needs_background": "light"
          }
        }
      ]
    }
  ]
}